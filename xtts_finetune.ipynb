{
  "cells": [
    {
      "cell_type": "code",
      "execution_count": null,
      "metadata": {
        "colab": {
          "base_uri": "https://localhost:8080/"
        },
        "id": "reZHinG98Sw3",
        "outputId": "d2ce9658-3a7f-4f84-a9ed-887a4aa76bcc"
      },
      "outputs": [],
      "source": [
        "!git clone https://github.com/Vali-98/xtts-finetune-webui.git"
      ]
    },
    {
      "cell_type": "code",
      "execution_count": null,
      "metadata": {
        "colab": {
          "base_uri": "https://localhost:8080/"
        },
        "id": "3wmrDWkh8q4D",
        "outputId": "4f562e78-0bed-4d51-c379-463e84c19027"
      },
      "outputs": [],
      "source": [
        "!cd /content/xtts-finetune-webui"
      ]
    },
    {
      "cell_type": "code",
      "execution_count": null,
      "metadata": {
        "colab": {
          "base_uri": "https://localhost:8080/",
          "height": 1000
        },
        "id": "8PBHp_8F81wm",
        "outputId": "5d975e7e-6e45-441f-c71d-f42d9438c821"
      },
      "outputs": [],
      "source": [
        "!pip install -r requirements.txt"
      ]
    },
    {
      "cell_type": "code",
      "execution_count": null,
      "metadata": {
        "colab": {
          "base_uri": "https://localhost:8080/"
        },
        "id": "HlotnFEb-XLX",
        "outputId": "d8290197-cac3-4b89-851d-7ac71181119b"
      },
      "outputs": [],
      "source": [
        "!python xtts_demo.py"
      ]
    }
  ],
  "metadata": {
    "accelerator": "GPU",
    "colab": {
      "gpuType": "T4",
      "provenance": []
    },
    "kernelspec": {
      "display_name": "Python 3",
      "name": "python3"
    },
    "language_info": {
      "name": "python"
    }
  },
  "nbformat": 4,
  "nbformat_minor": 0
}
